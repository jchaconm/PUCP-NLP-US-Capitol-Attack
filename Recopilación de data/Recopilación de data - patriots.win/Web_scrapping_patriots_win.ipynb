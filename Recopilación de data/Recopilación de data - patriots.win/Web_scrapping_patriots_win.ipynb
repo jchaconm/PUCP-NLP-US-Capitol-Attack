{
  "nbformat": 4,
  "nbformat_minor": 0,
  "metadata": {
    "colab": {
      "name": "Web scraping  patriots win.ipynb",
      "provenance": [],
      "collapsed_sections": []
    },
    "kernelspec": {
      "name": "python3",
      "display_name": "Python 3"
    }
  },
  "cells": [
    {
      "cell_type": "markdown",
      "metadata": {
        "id": "c_n-AwJSWte1"
      },
      "source": [
        "Imports"
      ]
    },
    {
      "cell_type": "code",
      "metadata": {
        "id": "RMVbVRs2B4WP"
      },
      "source": [
        "from bs4 import BeautifulSoup\r\n",
        "import requests\r\n",
        "import pandas as pd"
      ],
      "execution_count": null,
      "outputs": []
    },
    {
      "cell_type": "markdown",
      "metadata": {
        "id": "IZYbcFJbXJFw"
      },
      "source": [
        "Páginas web de patriots.win a scrappear"
      ]
    },
    {
      "cell_type": "code",
      "metadata": {
        "id": "c6RsrD3lAy1F"
      },
      "source": [
        "links = [\r\n",
        "{'url':'https://patriots.win/p/11RhKDWsS8/this-movement-started-with-trump/c/',\r\n",
        "    'id':'11RhKDWsS8'},\r\n",
        "{'url':'https://patriots.win/p/11S0SNEF1s/this-man-did-more-for-the-cause-/c/',\r\n",
        "    'id': '11S0SNEF1s' },\r\n",
        "{'url':'https://patriots.win/p/11RhOrv3Yf/donald-j-trump-the-75000000-gr/c/', \r\n",
        "    'id': '11RhOrv3Yf'},\r\n",
        "{'url':'https://patriots.win/p/11RhFVjmdN/never-forget-police-kneeled-for-/c/', \r\n",
        "    'id': '11RhFVjmdN'},\r\n",
        "{'url':'https://patriots.win/p/11RhOuBIlc/reddit-just-banned-the-biggest-r/c/', \r\n",
        "    'id': '11RhOuBIlc'},\r\n",
        "{'url':'https://patriots.win/p/11RhFVkcNi/there-is-going-to-be-a-swift-and/c/', \r\n",
        "    'id': '11RhFVkcNi'},\r\n",
        "{'url':'https://patriots.win/p/11RhFaHeMh/i-hope-some-of-you-have-finally-/c/', \r\n",
        "    'id': '11RhFaHeMh'},\r\n",
        "{'url':'https://patriots.win/p/11RhFWr5QS/what-happened-yesterday-wasnt-th/', \r\n",
        "    'id': '11RhFWr5QS'},\r\n",
        "{'url':'https://patriots.win/p/11RhKCNvhS/fbi-looking-for-terrorist-on-tdw/c/', \r\n",
        "    'id': '11RhKCNvhS'},\r\n",
        "{'url':'https://patriots.win/p/11RhAsTBIt/magacountry/c/', \r\n",
        "    'id': '11RhAsTBIt'},\r\n",
        "{'url':'https://patriots.win/p/11RhFcX3h4/if-trump-had-incited-a-riot-as-t/c/', \r\n",
        "    'id': '11RhFcX3h4'},\r\n",
        "{'url':'https://patriots.win/p/11RhAsStqz/the-difference/c/', \r\n",
        "    'id': '11RhAsStqz'},\r\n",
        "{'url': 'https://patriots.win/p/11RhP10lcL/based-patriot-who-sat-at-nancys-/c/',\r\n",
        "    'id': '11RhP10lcL'},\r\n",
        "{'url': 'https://patriots.win/p/11RhOzrYY9/i-can-confidently-say-that-i-spe/c/',\r\n",
        "    'id': '11RhOzrYY9'},\r\n",
        "{'url': 'https://patriots.win/p/11RhAukWF0/you-killed-an-unarmed-girl-in-th/c/',\r\n",
        "    'id': '11RhAukWF0'},\r\n",
        "{'url': 'https://patriots.win/p/11RhTbywLY/rasmussen-trumps-approval-rating/c/',\r\n",
        "    'id': '11RhTbywLY'},\r\n",
        "{ 'url': 'https://patriots.win/p/11RhOzrpb9/trump-just-got-banned-on-twitter/c/',\r\n",
        "  \t'id': '11RhOzrpb9'\r\n",
        " }\r\n",
        "]"
      ],
      "execution_count": null,
      "outputs": []
    },
    {
      "cell_type": "markdown",
      "metadata": {
        "id": "WYX0mvgqX0lR"
      },
      "source": [
        "Uso de BeautifulSoup"
      ]
    },
    {
      "cell_type": "code",
      "metadata": {
        "id": "dop-sHS3BVa1"
      },
      "source": [
        "comments_lst = list()\r\n",
        "for post in links:\r\n",
        "  response = requests.get(post['url'])\r\n",
        "  soup = BeautifulSoup(response.text, 'lxml')\r\n",
        "  for ix,comment in enumerate(soup.select('div.content')[1:]):\r\n",
        "      div_parent_txt = comment.parent.parent.select(\"div.details span.points\")[0].text\r\n",
        "      comments_lst.append({\r\n",
        "          'comment' : ' '.join([tx.text for tx in comment.select('p')]),\r\n",
        "          'post_id' : post['id'],\r\n",
        "          'score':  int(''.join(div_parent_txt.replace('points','').replace('point','').split()))\r\n",
        "\r\n",
        "      })"
      ],
      "execution_count": null,
      "outputs": []
    },
    {
      "cell_type": "markdown",
      "metadata": {
        "id": "EdEKHlzdXr-Y"
      },
      "source": [
        "Filtración de lista de comentarios, excluyendo comentarios con menos de 3 palabras."
      ]
    },
    {
      "cell_type": "code",
      "metadata": {
        "id": "xt3VC9V6YMXo"
      },
      "source": [
        "filtered_comments_lst = [x for x in comments_lst if len(x['comment'].split()) >= 3 ]"
      ],
      "execution_count": null,
      "outputs": []
    },
    {
      "cell_type": "markdown",
      "metadata": {
        "id": "WiaMHQrMYUoX"
      },
      "source": [
        "Cantidad de comentarios en total"
      ]
    },
    {
      "cell_type": "code",
      "metadata": {
        "colab": {
          "base_uri": "https://localhost:8080/"
        },
        "id": "TOwKzQWCDRWf",
        "outputId": "7fbbc44f-bde0-4e32-b492-e199695c2b0b"
      },
      "source": [
        "len(comments_lst) "
      ],
      "execution_count": null,
      "outputs": [
        {
          "output_type": "execute_result",
          "data": {
            "text/plain": [
              "5042"
            ]
          },
          "metadata": {
            "tags": []
          },
          "execution_count": 141
        }
      ]
    },
    {
      "cell_type": "markdown",
      "metadata": {
        "id": "F7kQrqz4YRpO"
      },
      "source": [
        "Cantidad de comentarios filtrados"
      ]
    },
    {
      "cell_type": "code",
      "metadata": {
        "colab": {
          "base_uri": "https://localhost:8080/"
        },
        "id": "LDiWQvCODCcg",
        "outputId": "014797fb-6f29-493b-f76c-fe519a28b146"
      },
      "source": [
        "len(filtered_comments_lst)"
      ],
      "execution_count": null,
      "outputs": [
        {
          "output_type": "execute_result",
          "data": {
            "text/plain": [
              "4765"
            ]
          },
          "metadata": {
            "tags": []
          },
          "execution_count": 140
        }
      ]
    },
    {
      "cell_type": "markdown",
      "metadata": {
        "id": "3TJCfhv_Ypbl"
      },
      "source": [
        "Creación de dataframe"
      ]
    },
    {
      "cell_type": "code",
      "metadata": {
        "id": "JVjq15snR_xi"
      },
      "source": [
        "df = pd.DataFrame(filtered_comments_lst)"
      ],
      "execution_count": null,
      "outputs": []
    },
    {
      "cell_type": "markdown",
      "metadata": {
        "id": "snPcmCILYq8E"
      },
      "source": [
        "Exportación a CSV"
      ]
    },
    {
      "cell_type": "code",
      "metadata": {
        "id": "zCioAlElXoy1"
      },
      "source": [
        "df.to_csv ('thedonald comments.csv', index = False, header=True)\r\n"
      ],
      "execution_count": null,
      "outputs": []
    }
  ]
}